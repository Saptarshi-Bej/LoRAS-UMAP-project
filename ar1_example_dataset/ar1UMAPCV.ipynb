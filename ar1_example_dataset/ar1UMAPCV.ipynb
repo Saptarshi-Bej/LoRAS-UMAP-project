{
 "cells": [
  {
   "cell_type": "markdown",
   "metadata": {},
   "source": [
    "## Importing libraries"
   ]
  },
  {
   "cell_type": "code",
   "execution_count": 1,
   "metadata": {},
   "outputs": [],
   "source": [
    "import os\n",
    "import numpy as np\n",
    "import pandas as pd\n",
    "import matplotlib.pyplot as plt\n",
    "import random\n",
    "from sklearn.neighbors import NearestNeighbors\n",
    "import math\n",
    "import seaborn as sn"
   ]
  },
  {
   "cell_type": "code",
   "execution_count": 2,
   "metadata": {},
   "outputs": [],
   "source": [
    "import random\n",
    "from scipy import ndarray"
   ]
  },
  {
   "cell_type": "code",
   "execution_count": 3,
   "metadata": {},
   "outputs": [],
   "source": [
    "%config InlineBackend.figure_format = 'svg'"
   ]
  },
  {
   "cell_type": "code",
   "execution_count": 4,
   "metadata": {},
   "outputs": [],
   "source": [
    "palette = ['paleturquoise','c']"
   ]
  },
  {
   "cell_type": "markdown",
   "metadata": {},
   "source": [
    "## Import dataset"
   ]
  },
  {
   "cell_type": "code",
   "execution_count": 5,
   "metadata": {
    "scrolled": true
   },
   "outputs": [
    {
     "name": "stderr",
     "output_type": "stream",
     "text": [
      "C:\\Users\\admin\\Anaconda3\\lib\\site-packages\\ipykernel_launcher.py:3: FutureWarning: Method .as_matrix will be removed in a future version. Use .values instead.\n",
      "  This is separate from the ipykernel package so we can avoid doing imports until\n"
     ]
    },
    {
     "data": {
      "text/plain": [
       "(121, 30)"
      ]
     },
     "execution_count": 5,
     "metadata": {},
     "output_type": "execute_result"
    }
   ],
   "source": [
    "filename='ar1.csv'\n",
    "data=pd.read_csv(filename)\n",
    "data=data.as_matrix()\n",
    "data.shape"
   ]
  },
  {
   "cell_type": "code",
   "execution_count": 6,
   "metadata": {
    "scrolled": true
   },
   "outputs": [
    {
     "data": {
      "text/plain": [
       "(121, 30)"
      ]
     },
     "execution_count": 6,
     "metadata": {},
     "output_type": "execute_result"
    }
   ],
   "source": [
    "data.data.shape"
   ]
  },
  {
   "cell_type": "code",
   "execution_count": 7,
   "metadata": {},
   "outputs": [
    {
     "data": {
      "text/plain": [
       "121"
      ]
     },
     "execution_count": 7,
     "metadata": {},
     "output_type": "execute_result"
    }
   ],
   "source": [
    "len(data.data)"
   ]
  },
  {
   "cell_type": "code",
   "execution_count": 8,
   "metadata": {},
   "outputs": [],
   "source": [
    "def unison_shuffled_copies(a, b):\n",
    "    np.random.seed(1)##change seed 1,3,5\n",
    "    assert len(a) == len(b)\n",
    "    p = np.random.permutation(len(a))\n",
    "    return a[p], b[p]"
   ]
  },
  {
   "cell_type": "markdown",
   "metadata": {},
   "source": [
    "## Initializing Results list"
   ]
  },
  {
   "cell_type": "markdown",
   "metadata": {},
   "source": [
    "## Creating label and feature matrices"
   ]
  },
  {
   "cell_type": "code",
   "execution_count": 9,
   "metadata": {},
   "outputs": [
    {
     "data": {
      "text/plain": [
       "(121,)"
      ]
     },
     "execution_count": 9,
     "metadata": {},
     "output_type": "execute_result"
    }
   ],
   "source": [
    "labels=data[:,29]\n",
    "labels.shape"
   ]
  },
  {
   "cell_type": "code",
   "execution_count": 10,
   "metadata": {},
   "outputs": [
    {
     "data": {
      "text/plain": [
       "(121, 29)"
      ]
     },
     "execution_count": 10,
     "metadata": {},
     "output_type": "execute_result"
    }
   ],
   "source": [
    "features=list(range(29))\n",
    "features=data[:,features]\n",
    "features.shape"
   ]
  },
  {
   "cell_type": "code",
   "execution_count": 11,
   "metadata": {},
   "outputs": [],
   "source": [
    "n_feat=len(features[1])"
   ]
  },
  {
   "cell_type": "code",
   "execution_count": 12,
   "metadata": {},
   "outputs": [],
   "source": [
    "features,labels=unison_shuffled_copies(features,labels)"
   ]
  },
  {
   "cell_type": "code",
   "execution_count": 13,
   "metadata": {},
   "outputs": [
    {
     "data": {
      "image/svg+xml": [
       "<?xml version=\"1.0\" encoding=\"utf-8\" standalone=\"no\"?>\r\n",
       "<!DOCTYPE svg PUBLIC \"-//W3C//DTD SVG 1.1//EN\"\r\n",
       "  \"http://www.w3.org/Graphics/SVG/1.1/DTD/svg11.dtd\">\r\n",
       "<!-- Created with matplotlib (https://matplotlib.org/) -->\r\n",
       "<svg height=\"349.514219pt\" version=\"1.1\" viewBox=\"0 0 349.480156 349.514219\" width=\"349.480156pt\" xmlns=\"http://www.w3.org/2000/svg\" xmlns:xlink=\"http://www.w3.org/1999/xlink\">\r\n",
       " <defs>\r\n",
       "  <style type=\"text/css\">\r\n",
       "*{stroke-linecap:butt;stroke-linejoin:round;}\r\n",
       "  </style>\r\n",
       " </defs>\r\n",
       " <g id=\"figure_1\">\r\n",
       "  <g id=\"patch_1\">\r\n",
       "   <path d=\"M 0 349.514219 \r\n",
       "L 349.480156 349.514219 \r\n",
       "L 349.480156 0 \r\n",
       "L 0 0 \r\n",
       "z\r\n",
       "\" style=\"fill:#ffffff;\"/>\r\n",
       "  </g>\r\n",
       "  <g id=\"axes_1\">\r\n",
       "   <g id=\"patch_2\">\r\n",
       "    <path d=\"M 56.450156 307.78 \r\n",
       "L 342.280156 307.78 \r\n",
       "L 342.280156 7.2 \r\n",
       "L 56.450156 7.2 \r\n",
       "z\r\n",
       "\" style=\"fill:#ffffff;\"/>\r\n",
       "   </g>\r\n",
       "   <g id=\"matplotlib.axis_1\">\r\n",
       "    <g id=\"xtick_1\">\r\n",
       "     <g id=\"line2d_1\">\r\n",
       "      <defs>\r\n",
       "       <path d=\"M 0 0 \r\n",
       "L 0 6 \r\n",
       "\" id=\"m35110da996\" style=\"stroke:#262626;stroke-width:1.25;\"/>\r\n",
       "      </defs>\r\n",
       "      <g>\r\n",
       "       <use style=\"fill:#262626;stroke:#262626;stroke-width:1.25;\" x=\"88.586093\" xlink:href=\"#m35110da996\" y=\"307.78\"/>\r\n",
       "      </g>\r\n",
       "     </g>\r\n",
       "     <g id=\"text_1\">\r\n",
       "      <!-- 0 -->\r\n",
       "      <defs>\r\n",
       "       <path d=\"M 4.15625 35.296875 \r\n",
       "Q 4.15625 48 6.765625 55.734375 \r\n",
       "Q 9.375 63.484375 14.515625 67.671875 \r\n",
       "Q 19.671875 71.875 27.484375 71.875 \r\n",
       "Q 33.25 71.875 37.59375 69.546875 \r\n",
       "Q 41.9375 67.234375 44.765625 62.859375 \r\n",
       "Q 47.609375 58.5 49.21875 52.21875 \r\n",
       "Q 50.828125 45.953125 50.828125 35.296875 \r\n",
       "Q 50.828125 22.703125 48.234375 14.96875 \r\n",
       "Q 45.65625 7.234375 40.5 3 \r\n",
       "Q 35.359375 -1.21875 27.484375 -1.21875 \r\n",
       "Q 17.140625 -1.21875 11.234375 6.203125 \r\n",
       "Q 4.15625 15.140625 4.15625 35.296875 \r\n",
       "z\r\n",
       "M 13.1875 35.296875 \r\n",
       "Q 13.1875 17.671875 17.3125 11.828125 \r\n",
       "Q 21.4375 6 27.484375 6 \r\n",
       "Q 33.546875 6 37.671875 11.859375 \r\n",
       "Q 41.796875 17.71875 41.796875 35.296875 \r\n",
       "Q 41.796875 52.984375 37.671875 58.78125 \r\n",
       "Q 33.546875 64.59375 27.390625 64.59375 \r\n",
       "Q 21.34375 64.59375 17.71875 59.46875 \r\n",
       "Q 13.1875 52.9375 13.1875 35.296875 \r\n",
       "z\r\n",
       "\" id=\"ArialMT-48\"/>\r\n",
       "      </defs>\r\n",
       "      <g style=\"fill:#262626;\" transform=\"translate(85.527577 325.153594)scale(0.11 -0.11)\">\r\n",
       "       <use xlink:href=\"#ArialMT-48\"/>\r\n",
       "      </g>\r\n",
       "     </g>\r\n",
       "    </g>\r\n",
       "    <g id=\"xtick_2\">\r\n",
       "     <g id=\"line2d_2\">\r\n",
       "      <g>\r\n",
       "       <use style=\"fill:#262626;stroke:#262626;stroke-width:1.25;\" x=\"152.482114\" xlink:href=\"#m35110da996\" y=\"307.78\"/>\r\n",
       "      </g>\r\n",
       "     </g>\r\n",
       "     <g id=\"text_2\">\r\n",
       "      <!-- 10000 -->\r\n",
       "      <defs>\r\n",
       "       <path d=\"M 37.25 0 \r\n",
       "L 28.46875 0 \r\n",
       "L 28.46875 56 \r\n",
       "Q 25.296875 52.984375 20.140625 49.953125 \r\n",
       "Q 14.984375 46.921875 10.890625 45.40625 \r\n",
       "L 10.890625 53.90625 \r\n",
       "Q 18.265625 57.375 23.78125 62.296875 \r\n",
       "Q 29.296875 67.234375 31.59375 71.875 \r\n",
       "L 37.25 71.875 \r\n",
       "z\r\n",
       "\" id=\"ArialMT-49\"/>\r\n",
       "      </defs>\r\n",
       "      <g style=\"fill:#262626;\" transform=\"translate(137.189536 325.153594)scale(0.11 -0.11)\">\r\n",
       "       <use xlink:href=\"#ArialMT-49\"/>\r\n",
       "       <use x=\"55.615234\" xlink:href=\"#ArialMT-48\"/>\r\n",
       "       <use x=\"111.230469\" xlink:href=\"#ArialMT-48\"/>\r\n",
       "       <use x=\"166.845703\" xlink:href=\"#ArialMT-48\"/>\r\n",
       "       <use x=\"222.460938\" xlink:href=\"#ArialMT-48\"/>\r\n",
       "      </g>\r\n",
       "     </g>\r\n",
       "    </g>\r\n",
       "    <g id=\"xtick_3\">\r\n",
       "     <g id=\"line2d_3\">\r\n",
       "      <g>\r\n",
       "       <use style=\"fill:#262626;stroke:#262626;stroke-width:1.25;\" x=\"216.378135\" xlink:href=\"#m35110da996\" y=\"307.78\"/>\r\n",
       "      </g>\r\n",
       "     </g>\r\n",
       "     <g id=\"text_3\">\r\n",
       "      <!-- 20000 -->\r\n",
       "      <defs>\r\n",
       "       <path d=\"M 50.34375 8.453125 \r\n",
       "L 50.34375 0 \r\n",
       "L 3.03125 0 \r\n",
       "Q 2.9375 3.171875 4.046875 6.109375 \r\n",
       "Q 5.859375 10.9375 9.828125 15.625 \r\n",
       "Q 13.8125 20.3125 21.34375 26.46875 \r\n",
       "Q 33.015625 36.03125 37.109375 41.625 \r\n",
       "Q 41.21875 47.21875 41.21875 52.203125 \r\n",
       "Q 41.21875 57.421875 37.46875 61 \r\n",
       "Q 33.734375 64.59375 27.734375 64.59375 \r\n",
       "Q 21.390625 64.59375 17.578125 60.78125 \r\n",
       "Q 13.765625 56.984375 13.71875 50.25 \r\n",
       "L 4.6875 51.171875 \r\n",
       "Q 5.609375 61.28125 11.65625 66.578125 \r\n",
       "Q 17.71875 71.875 27.9375 71.875 \r\n",
       "Q 38.234375 71.875 44.234375 66.15625 \r\n",
       "Q 50.25 60.453125 50.25 52 \r\n",
       "Q 50.25 47.703125 48.484375 43.546875 \r\n",
       "Q 46.734375 39.40625 42.65625 34.8125 \r\n",
       "Q 38.578125 30.21875 29.109375 22.21875 \r\n",
       "Q 21.1875 15.578125 18.9375 13.203125 \r\n",
       "Q 16.703125 10.84375 15.234375 8.453125 \r\n",
       "z\r\n",
       "\" id=\"ArialMT-50\"/>\r\n",
       "      </defs>\r\n",
       "      <g style=\"fill:#262626;\" transform=\"translate(201.085557 325.153594)scale(0.11 -0.11)\">\r\n",
       "       <use xlink:href=\"#ArialMT-50\"/>\r\n",
       "       <use x=\"55.615234\" xlink:href=\"#ArialMT-48\"/>\r\n",
       "       <use x=\"111.230469\" xlink:href=\"#ArialMT-48\"/>\r\n",
       "       <use x=\"166.845703\" xlink:href=\"#ArialMT-48\"/>\r\n",
       "       <use x=\"222.460938\" xlink:href=\"#ArialMT-48\"/>\r\n",
       "      </g>\r\n",
       "     </g>\r\n",
       "    </g>\r\n",
       "    <g id=\"xtick_4\">\r\n",
       "     <g id=\"line2d_4\">\r\n",
       "      <g>\r\n",
       "       <use style=\"fill:#262626;stroke:#262626;stroke-width:1.25;\" x=\"280.274155\" xlink:href=\"#m35110da996\" y=\"307.78\"/>\r\n",
       "      </g>\r\n",
       "     </g>\r\n",
       "     <g id=\"text_4\">\r\n",
       "      <!-- 30000 -->\r\n",
       "      <defs>\r\n",
       "       <path d=\"M 4.203125 18.890625 \r\n",
       "L 12.984375 20.0625 \r\n",
       "Q 14.5 12.59375 18.140625 9.296875 \r\n",
       "Q 21.78125 6 27 6 \r\n",
       "Q 33.203125 6 37.46875 10.296875 \r\n",
       "Q 41.75 14.59375 41.75 20.953125 \r\n",
       "Q 41.75 27 37.796875 30.921875 \r\n",
       "Q 33.84375 34.859375 27.734375 34.859375 \r\n",
       "Q 25.25 34.859375 21.53125 33.890625 \r\n",
       "L 22.515625 41.609375 \r\n",
       "Q 23.390625 41.5 23.921875 41.5 \r\n",
       "Q 29.546875 41.5 34.03125 44.421875 \r\n",
       "Q 38.53125 47.359375 38.53125 53.46875 \r\n",
       "Q 38.53125 58.296875 35.25 61.46875 \r\n",
       "Q 31.984375 64.65625 26.8125 64.65625 \r\n",
       "Q 21.6875 64.65625 18.265625 61.421875 \r\n",
       "Q 14.84375 58.203125 13.875 51.765625 \r\n",
       "L 5.078125 53.328125 \r\n",
       "Q 6.6875 62.15625 12.390625 67.015625 \r\n",
       "Q 18.109375 71.875 26.609375 71.875 \r\n",
       "Q 32.46875 71.875 37.390625 69.359375 \r\n",
       "Q 42.328125 66.84375 44.9375 62.5 \r\n",
       "Q 47.5625 58.15625 47.5625 53.265625 \r\n",
       "Q 47.5625 48.640625 45.0625 44.828125 \r\n",
       "Q 42.578125 41.015625 37.703125 38.765625 \r\n",
       "Q 44.046875 37.3125 47.5625 32.6875 \r\n",
       "Q 51.078125 28.078125 51.078125 21.140625 \r\n",
       "Q 51.078125 11.765625 44.234375 5.25 \r\n",
       "Q 37.40625 -1.265625 26.953125 -1.265625 \r\n",
       "Q 17.53125 -1.265625 11.296875 4.34375 \r\n",
       "Q 5.078125 9.96875 4.203125 18.890625 \r\n",
       "z\r\n",
       "\" id=\"ArialMT-51\"/>\r\n",
       "      </defs>\r\n",
       "      <g style=\"fill:#262626;\" transform=\"translate(264.981577 325.153594)scale(0.11 -0.11)\">\r\n",
       "       <use xlink:href=\"#ArialMT-51\"/>\r\n",
       "       <use x=\"55.615234\" xlink:href=\"#ArialMT-48\"/>\r\n",
       "       <use x=\"111.230469\" xlink:href=\"#ArialMT-48\"/>\r\n",
       "       <use x=\"166.845703\" xlink:href=\"#ArialMT-48\"/>\r\n",
       "       <use x=\"222.460938\" xlink:href=\"#ArialMT-48\"/>\r\n",
       "      </g>\r\n",
       "     </g>\r\n",
       "    </g>\r\n",
       "    <g id=\"text_5\">\r\n",
       "     <!-- PC1 -->\r\n",
       "     <defs>\r\n",
       "      <path d=\"M 7.71875 0 \r\n",
       "L 7.71875 71.578125 \r\n",
       "L 34.71875 71.578125 \r\n",
       "Q 41.84375 71.578125 45.609375 70.90625 \r\n",
       "Q 50.875 70.015625 54.4375 67.546875 \r\n",
       "Q 58.015625 65.09375 60.1875 60.640625 \r\n",
       "Q 62.359375 56.203125 62.359375 50.875 \r\n",
       "Q 62.359375 41.75 56.546875 35.421875 \r\n",
       "Q 50.734375 29.109375 35.546875 29.109375 \r\n",
       "L 17.1875 29.109375 \r\n",
       "L 17.1875 0 \r\n",
       "z\r\n",
       "M 17.1875 37.546875 \r\n",
       "L 35.6875 37.546875 \r\n",
       "Q 44.875 37.546875 48.734375 40.96875 \r\n",
       "Q 52.59375 44.390625 52.59375 50.59375 \r\n",
       "Q 52.59375 55.078125 50.3125 58.265625 \r\n",
       "Q 48.046875 61.46875 44.34375 62.5 \r\n",
       "Q 41.9375 63.140625 35.5 63.140625 \r\n",
       "L 17.1875 63.140625 \r\n",
       "z\r\n",
       "\" id=\"ArialMT-80\"/>\r\n",
       "      <path d=\"M 58.796875 25.09375 \r\n",
       "L 68.265625 22.703125 \r\n",
       "Q 65.28125 11.03125 57.546875 4.90625 \r\n",
       "Q 49.8125 -1.21875 38.625 -1.21875 \r\n",
       "Q 27.046875 -1.21875 19.796875 3.484375 \r\n",
       "Q 12.546875 8.203125 8.765625 17.140625 \r\n",
       "Q 4.984375 26.078125 4.984375 36.328125 \r\n",
       "Q 4.984375 47.515625 9.25 55.828125 \r\n",
       "Q 13.53125 64.15625 21.40625 68.46875 \r\n",
       "Q 29.296875 72.796875 38.765625 72.796875 \r\n",
       "Q 49.515625 72.796875 56.828125 67.328125 \r\n",
       "Q 64.15625 61.859375 67.046875 51.953125 \r\n",
       "L 57.71875 49.75 \r\n",
       "Q 55.21875 57.5625 50.484375 61.125 \r\n",
       "Q 45.75 64.703125 38.578125 64.703125 \r\n",
       "Q 30.328125 64.703125 24.78125 60.734375 \r\n",
       "Q 19.234375 56.78125 16.984375 50.109375 \r\n",
       "Q 14.75 43.453125 14.75 36.375 \r\n",
       "Q 14.75 27.25 17.40625 20.4375 \r\n",
       "Q 20.0625 13.625 25.671875 10.25 \r\n",
       "Q 31.296875 6.890625 37.84375 6.890625 \r\n",
       "Q 45.796875 6.890625 51.3125 11.46875 \r\n",
       "Q 56.84375 16.0625 58.796875 25.09375 \r\n",
       "z\r\n",
       "\" id=\"ArialMT-67\"/>\r\n",
       "     </defs>\r\n",
       "     <g style=\"fill:#262626;\" transform=\"translate(187.693281 339.929219)scale(0.12 -0.12)\">\r\n",
       "      <use xlink:href=\"#ArialMT-80\"/>\r\n",
       "      <use x=\"66.699219\" xlink:href=\"#ArialMT-67\"/>\r\n",
       "      <use x=\"138.916016\" xlink:href=\"#ArialMT-49\"/>\r\n",
       "     </g>\r\n",
       "    </g>\r\n",
       "   </g>\r\n",
       "   <g id=\"matplotlib.axis_2\">\r\n",
       "    <g id=\"ytick_1\">\r\n",
       "     <g id=\"line2d_5\">\r\n",
       "      <defs>\r\n",
       "       <path d=\"M 0 0 \r\n",
       "L -6 0 \r\n",
       "\" id=\"m9a83627d8b\" style=\"stroke:#262626;stroke-width:1.25;\"/>\r\n",
       "      </defs>\r\n",
       "      <g>\r\n",
       "       <use style=\"fill:#262626;stroke:#262626;stroke-width:1.25;\" x=\"56.450156\" xlink:href=\"#m9a83627d8b\" y=\"274.39909\"/>\r\n",
       "      </g>\r\n",
       "     </g>\r\n",
       "     <g id=\"text_6\">\r\n",
       "      <!-- −300 -->\r\n",
       "      <defs>\r\n",
       "       <path d=\"M 52.828125 31.203125 \r\n",
       "L 5.5625 31.203125 \r\n",
       "L 5.5625 39.40625 \r\n",
       "L 52.828125 39.40625 \r\n",
       "z\r\n",
       "\" id=\"ArialMT-8722\"/>\r\n",
       "      </defs>\r\n",
       "      <g style=\"fill:#262626;\" transform=\"translate(22.174375 278.335887)scale(0.11 -0.11)\">\r\n",
       "       <use xlink:href=\"#ArialMT-8722\"/>\r\n",
       "       <use x=\"58.398438\" xlink:href=\"#ArialMT-51\"/>\r\n",
       "       <use x=\"114.013672\" xlink:href=\"#ArialMT-48\"/>\r\n",
       "       <use x=\"169.628906\" xlink:href=\"#ArialMT-48\"/>\r\n",
       "      </g>\r\n",
       "     </g>\r\n",
       "    </g>\r\n",
       "    <g id=\"ytick_2\">\r\n",
       "     <g id=\"line2d_6\">\r\n",
       "      <g>\r\n",
       "       <use style=\"fill:#262626;stroke:#262626;stroke-width:1.25;\" x=\"56.450156\" xlink:href=\"#m9a83627d8b\" y=\"237.070146\"/>\r\n",
       "      </g>\r\n",
       "     </g>\r\n",
       "     <g id=\"text_7\">\r\n",
       "      <!-- −200 -->\r\n",
       "      <g style=\"fill:#262626;\" transform=\"translate(22.174375 241.006943)scale(0.11 -0.11)\">\r\n",
       "       <use xlink:href=\"#ArialMT-8722\"/>\r\n",
       "       <use x=\"58.398438\" xlink:href=\"#ArialMT-50\"/>\r\n",
       "       <use x=\"114.013672\" xlink:href=\"#ArialMT-48\"/>\r\n",
       "       <use x=\"169.628906\" xlink:href=\"#ArialMT-48\"/>\r\n",
       "      </g>\r\n",
       "     </g>\r\n",
       "    </g>\r\n",
       "    <g id=\"ytick_3\">\r\n",
       "     <g id=\"line2d_7\">\r\n",
       "      <g>\r\n",
       "       <use style=\"fill:#262626;stroke:#262626;stroke-width:1.25;\" x=\"56.450156\" xlink:href=\"#m9a83627d8b\" y=\"199.741202\"/>\r\n",
       "      </g>\r\n",
       "     </g>\r\n",
       "     <g id=\"text_8\">\r\n",
       "      <!-- −100 -->\r\n",
       "      <g style=\"fill:#262626;\" transform=\"translate(22.174375 203.677999)scale(0.11 -0.11)\">\r\n",
       "       <use xlink:href=\"#ArialMT-8722\"/>\r\n",
       "       <use x=\"58.398438\" xlink:href=\"#ArialMT-49\"/>\r\n",
       "       <use x=\"114.013672\" xlink:href=\"#ArialMT-48\"/>\r\n",
       "       <use x=\"169.628906\" xlink:href=\"#ArialMT-48\"/>\r\n",
       "      </g>\r\n",
       "     </g>\r\n",
       "    </g>\r\n",
       "    <g id=\"ytick_4\">\r\n",
       "     <g id=\"line2d_8\">\r\n",
       "      <g>\r\n",
       "       <use style=\"fill:#262626;stroke:#262626;stroke-width:1.25;\" x=\"56.450156\" xlink:href=\"#m9a83627d8b\" y=\"162.412257\"/>\r\n",
       "      </g>\r\n",
       "     </g>\r\n",
       "     <g id=\"text_9\">\r\n",
       "      <!-- 0 -->\r\n",
       "      <g style=\"fill:#262626;\" transform=\"translate(40.833125 166.349054)scale(0.11 -0.11)\">\r\n",
       "       <use xlink:href=\"#ArialMT-48\"/>\r\n",
       "      </g>\r\n",
       "     </g>\r\n",
       "    </g>\r\n",
       "    <g id=\"ytick_5\">\r\n",
       "     <g id=\"line2d_9\">\r\n",
       "      <g>\r\n",
       "       <use style=\"fill:#262626;stroke:#262626;stroke-width:1.25;\" x=\"56.450156\" xlink:href=\"#m9a83627d8b\" y=\"125.083313\"/>\r\n",
       "      </g>\r\n",
       "     </g>\r\n",
       "     <g id=\"text_10\">\r\n",
       "      <!-- 100 -->\r\n",
       "      <g style=\"fill:#262626;\" transform=\"translate(28.599063 129.02011)scale(0.11 -0.11)\">\r\n",
       "       <use xlink:href=\"#ArialMT-49\"/>\r\n",
       "       <use x=\"55.615234\" xlink:href=\"#ArialMT-48\"/>\r\n",
       "       <use x=\"111.230469\" xlink:href=\"#ArialMT-48\"/>\r\n",
       "      </g>\r\n",
       "     </g>\r\n",
       "    </g>\r\n",
       "    <g id=\"ytick_6\">\r\n",
       "     <g id=\"line2d_10\">\r\n",
       "      <g>\r\n",
       "       <use style=\"fill:#262626;stroke:#262626;stroke-width:1.25;\" x=\"56.450156\" xlink:href=\"#m9a83627d8b\" y=\"87.754369\"/>\r\n",
       "      </g>\r\n",
       "     </g>\r\n",
       "     <g id=\"text_11\">\r\n",
       "      <!-- 200 -->\r\n",
       "      <g style=\"fill:#262626;\" transform=\"translate(28.599063 91.691166)scale(0.11 -0.11)\">\r\n",
       "       <use xlink:href=\"#ArialMT-50\"/>\r\n",
       "       <use x=\"55.615234\" xlink:href=\"#ArialMT-48\"/>\r\n",
       "       <use x=\"111.230469\" xlink:href=\"#ArialMT-48\"/>\r\n",
       "      </g>\r\n",
       "     </g>\r\n",
       "    </g>\r\n",
       "    <g id=\"ytick_7\">\r\n",
       "     <g id=\"line2d_11\">\r\n",
       "      <g>\r\n",
       "       <use style=\"fill:#262626;stroke:#262626;stroke-width:1.25;\" x=\"56.450156\" xlink:href=\"#m9a83627d8b\" y=\"50.425425\"/>\r\n",
       "      </g>\r\n",
       "     </g>\r\n",
       "     <g id=\"text_12\">\r\n",
       "      <!-- 300 -->\r\n",
       "      <g style=\"fill:#262626;\" transform=\"translate(28.599063 54.362222)scale(0.11 -0.11)\">\r\n",
       "       <use xlink:href=\"#ArialMT-51\"/>\r\n",
       "       <use x=\"55.615234\" xlink:href=\"#ArialMT-48\"/>\r\n",
       "       <use x=\"111.230469\" xlink:href=\"#ArialMT-48\"/>\r\n",
       "      </g>\r\n",
       "     </g>\r\n",
       "    </g>\r\n",
       "    <g id=\"ytick_8\">\r\n",
       "     <g id=\"line2d_12\">\r\n",
       "      <g>\r\n",
       "       <use style=\"fill:#262626;stroke:#262626;stroke-width:1.25;\" x=\"56.450156\" xlink:href=\"#m9a83627d8b\" y=\"13.096481\"/>\r\n",
       "      </g>\r\n",
       "     </g>\r\n",
       "     <g id=\"text_13\">\r\n",
       "      <!-- 400 -->\r\n",
       "      <defs>\r\n",
       "       <path d=\"M 32.328125 0 \r\n",
       "L 32.328125 17.140625 \r\n",
       "L 1.265625 17.140625 \r\n",
       "L 1.265625 25.203125 \r\n",
       "L 33.9375 71.578125 \r\n",
       "L 41.109375 71.578125 \r\n",
       "L 41.109375 25.203125 \r\n",
       "L 50.78125 25.203125 \r\n",
       "L 50.78125 17.140625 \r\n",
       "L 41.109375 17.140625 \r\n",
       "L 41.109375 0 \r\n",
       "z\r\n",
       "M 32.328125 25.203125 \r\n",
       "L 32.328125 57.46875 \r\n",
       "L 9.90625 25.203125 \r\n",
       "z\r\n",
       "\" id=\"ArialMT-52\"/>\r\n",
       "      </defs>\r\n",
       "      <g style=\"fill:#262626;\" transform=\"translate(28.599063 17.033278)scale(0.11 -0.11)\">\r\n",
       "       <use xlink:href=\"#ArialMT-52\"/>\r\n",
       "       <use x=\"55.615234\" xlink:href=\"#ArialMT-48\"/>\r\n",
       "       <use x=\"111.230469\" xlink:href=\"#ArialMT-48\"/>\r\n",
       "      </g>\r\n",
       "     </g>\r\n",
       "    </g>\r\n",
       "    <g id=\"text_14\">\r\n",
       "     <!-- PC2 -->\r\n",
       "     <g style=\"fill:#262626;\" transform=\"translate(15.789375 169.161875)rotate(-90)scale(0.12 -0.12)\">\r\n",
       "      <use xlink:href=\"#ArialMT-80\"/>\r\n",
       "      <use x=\"66.699219\" xlink:href=\"#ArialMT-67\"/>\r\n",
       "      <use x=\"138.916016\" xlink:href=\"#ArialMT-50\"/>\r\n",
       "     </g>\r\n",
       "    </g>\r\n",
       "   </g>\r\n",
       "   <g id=\"PathCollection_1\">\r\n",
       "    <defs>\r\n",
       "     <path d=\"M 0 0.866025 \r\n",
       "C 0.229673 0.866025 0.449969 0.774776 0.612372 0.612372 \r\n",
       "C 0.774776 0.449969 0.866025 0.229673 0.866025 0 \r\n",
       "C 0.866025 -0.229673 0.774776 -0.449969 0.612372 -0.612372 \r\n",
       "C 0.449969 -0.774776 0.229673 -0.866025 0 -0.866025 \r\n",
       "C -0.229673 -0.866025 -0.449969 -0.774776 -0.612372 -0.612372 \r\n",
       "C -0.774776 -0.449969 -0.866025 -0.229673 -0.866025 0 \r\n",
       "C -0.866025 0.229673 -0.774776 0.449969 -0.612372 0.612372 \r\n",
       "C -0.449969 0.774776 -0.229673 0.866025 0 0.866025 \r\n",
       "z\r\n",
       "\" id=\"m511f47ef89\" style=\"stroke:#afeeee;stroke-opacity:0.8;\"/>\r\n",
       "    </defs>\r\n",
       "    <g clip-path=\"url(#p7422733102)\">\r\n",
       "     <use style=\"fill:#afeeee;fill-opacity:0.8;stroke:#afeeee;stroke-opacity:0.8;\" x=\"100.706795\" xlink:href=\"#m511f47ef89\" y=\"205.782916\"/>\r\n",
       "     <use style=\"fill:#afeeee;fill-opacity:0.8;stroke:#afeeee;stroke-opacity:0.8;\" x=\"131.017166\" xlink:href=\"#m511f47ef89\" y=\"283.869835\"/>\r\n",
       "     <use style=\"fill:#afeeee;fill-opacity:0.8;stroke:#afeeee;stroke-opacity:0.8;\" x=\"101.965632\" xlink:href=\"#m511f47ef89\" y=\"226.941801\"/>\r\n",
       "     <use style=\"fill:#afeeee;fill-opacity:0.8;stroke:#afeeee;stroke-opacity:0.8;\" x=\"71.057141\" xlink:href=\"#m511f47ef89\" y=\"136.78255\"/>\r\n",
       "     <use style=\"fill:#afeeee;fill-opacity:0.8;stroke:#afeeee;stroke-opacity:0.8;\" x=\"71.057141\" xlink:href=\"#m511f47ef89\" y=\"136.78255\"/>\r\n",
       "     <use style=\"fill:#afeeee;fill-opacity:0.8;stroke:#afeeee;stroke-opacity:0.8;\" x=\"72.98869\" xlink:href=\"#m511f47ef89\" y=\"139.854585\"/>\r\n",
       "     <use style=\"fill:#afeeee;fill-opacity:0.8;stroke:#afeeee;stroke-opacity:0.8;\" x=\"70.388654\" xlink:href=\"#m511f47ef89\" y=\"125.828115\"/>\r\n",
       "     <use style=\"fill:#afeeee;fill-opacity:0.8;stroke:#afeeee;stroke-opacity:0.8;\" x=\"76.07201\" xlink:href=\"#m511f47ef89\" y=\"149.082033\"/>\r\n",
       "     <use style=\"fill:#afeeee;fill-opacity:0.8;stroke:#afeeee;stroke-opacity:0.8;\" x=\"328.466592\" xlink:href=\"#m511f47ef89\" y=\"21.698306\"/>\r\n",
       "     <use style=\"fill:#afeeee;fill-opacity:0.8;stroke:#afeeee;stroke-opacity:0.8;\" x=\"70.706836\" xlink:href=\"#m511f47ef89\" y=\"129.330533\"/>\r\n",
       "     <use style=\"fill:#afeeee;fill-opacity:0.8;stroke:#afeeee;stroke-opacity:0.8;\" x=\"92.013741\" xlink:href=\"#m511f47ef89\" y=\"222.069329\"/>\r\n",
       "     <use style=\"fill:#afeeee;fill-opacity:0.8;stroke:#afeeee;stroke-opacity:0.8;\" x=\"80.246188\" xlink:href=\"#m511f47ef89\" y=\"174.327207\"/>\r\n",
       "     <use style=\"fill:#afeeee;fill-opacity:0.8;stroke:#afeeee;stroke-opacity:0.8;\" x=\"91.127601\" xlink:href=\"#m511f47ef89\" y=\"192.65465\"/>\r\n",
       "     <use style=\"fill:#afeeee;fill-opacity:0.8;stroke:#afeeee;stroke-opacity:0.8;\" x=\"70.258562\" xlink:href=\"#m511f47ef89\" y=\"122.707503\"/>\r\n",
       "     <use style=\"fill:#afeeee;fill-opacity:0.8;stroke:#afeeee;stroke-opacity:0.8;\" x=\"72.70207\" xlink:href=\"#m511f47ef89\" y=\"165.258626\"/>\r\n",
       "     <use style=\"fill:#afeeee;fill-opacity:0.8;stroke:#afeeee;stroke-opacity:0.8;\" x=\"80.568686\" xlink:href=\"#m511f47ef89\" y=\"189.241128\"/>\r\n",
       "     <use style=\"fill:#afeeee;fill-opacity:0.8;stroke:#afeeee;stroke-opacity:0.8;\" x=\"86.264738\" xlink:href=\"#m511f47ef89\" y=\"155.766578\"/>\r\n",
       "     <use style=\"fill:#afeeee;fill-opacity:0.8;stroke:#afeeee;stroke-opacity:0.8;\" x=\"95.905306\" xlink:href=\"#m511f47ef89\" y=\"208.499187\"/>\r\n",
       "     <use style=\"fill:#afeeee;fill-opacity:0.8;stroke:#afeeee;stroke-opacity:0.8;\" x=\"72.365495\" xlink:href=\"#m511f47ef89\" y=\"148.1263\"/>\r\n",
       "     <use style=\"fill:#afeeee;fill-opacity:0.8;stroke:#afeeee;stroke-opacity:0.8;\" x=\"70.258562\" xlink:href=\"#m511f47ef89\" y=\"122.707503\"/>\r\n",
       "     <use style=\"fill:#afeeee;fill-opacity:0.8;stroke:#afeeee;stroke-opacity:0.8;\" x=\"72.572842\" xlink:href=\"#m511f47ef89\" y=\"144.509465\"/>\r\n",
       "     <use style=\"fill:#afeeee;fill-opacity:0.8;stroke:#afeeee;stroke-opacity:0.8;\" x=\"95.814758\" xlink:href=\"#m511f47ef89\" y=\"192.246228\"/>\r\n",
       "     <use style=\"fill:#afeeee;fill-opacity:0.8;stroke:#afeeee;stroke-opacity:0.8;\" x=\"70.258562\" xlink:href=\"#m511f47ef89\" y=\"122.707503\"/>\r\n",
       "     <use style=\"fill:#afeeee;fill-opacity:0.8;stroke:#afeeee;stroke-opacity:0.8;\" x=\"71.057141\" xlink:href=\"#m511f47ef89\" y=\"136.78255\"/>\r\n",
       "     <use style=\"fill:#afeeee;fill-opacity:0.8;stroke:#afeeee;stroke-opacity:0.8;\" x=\"70.388654\" xlink:href=\"#m511f47ef89\" y=\"125.828115\"/>\r\n",
       "     <use style=\"fill:#afeeee;fill-opacity:0.8;stroke:#afeeee;stroke-opacity:0.8;\" x=\"70.717955\" xlink:href=\"#m511f47ef89\" y=\"129.988603\"/>\r\n",
       "     <use style=\"fill:#afeeee;fill-opacity:0.8;stroke:#afeeee;stroke-opacity:0.8;\" x=\"74.013792\" xlink:href=\"#m511f47ef89\" y=\"151.136477\"/>\r\n",
       "     <use style=\"fill:#afeeee;fill-opacity:0.8;stroke:#afeeee;stroke-opacity:0.8;\" x=\"71.057141\" xlink:href=\"#m511f47ef89\" y=\"136.78255\"/>\r\n",
       "     <use style=\"fill:#afeeee;fill-opacity:0.8;stroke:#afeeee;stroke-opacity:0.8;\" x=\"70.258562\" xlink:href=\"#m511f47ef89\" y=\"122.707503\"/>\r\n",
       "     <use style=\"fill:#afeeee;fill-opacity:0.8;stroke:#afeeee;stroke-opacity:0.8;\" x=\"70.663693\" xlink:href=\"#m511f47ef89\" y=\"128.575913\"/>\r\n",
       "     <use style=\"fill:#afeeee;fill-opacity:0.8;stroke:#afeeee;stroke-opacity:0.8;\" x=\"70.680583\" xlink:href=\"#m511f47ef89\" y=\"134.118889\"/>\r\n",
       "     <use style=\"fill:#afeeee;fill-opacity:0.8;stroke:#afeeee;stroke-opacity:0.8;\" x=\"89.201985\" xlink:href=\"#m511f47ef89\" y=\"186.13832\"/>\r\n",
       "     <use style=\"fill:#afeeee;fill-opacity:0.8;stroke:#afeeee;stroke-opacity:0.8;\" x=\"70.427817\" xlink:href=\"#m511f47ef89\" y=\"126.975799\"/>\r\n",
       "     <use style=\"fill:#afeeee;fill-opacity:0.8;stroke:#afeeee;stroke-opacity:0.8;\" x=\"103.272033\" xlink:href=\"#m511f47ef89\" y=\"211.622732\"/>\r\n",
       "     <use style=\"fill:#afeeee;fill-opacity:0.8;stroke:#afeeee;stroke-opacity:0.8;\" x=\"70.663693\" xlink:href=\"#m511f47ef89\" y=\"128.575913\"/>\r\n",
       "     <use style=\"fill:#afeeee;fill-opacity:0.8;stroke:#afeeee;stroke-opacity:0.8;\" x=\"70.571436\" xlink:href=\"#m511f47ef89\" y=\"131.216236\"/>\r\n",
       "     <use style=\"fill:#afeeee;fill-opacity:0.8;stroke:#afeeee;stroke-opacity:0.8;\" x=\"81.357198\" xlink:href=\"#m511f47ef89\" y=\"159.299763\"/>\r\n",
       "     <use style=\"fill:#afeeee;fill-opacity:0.8;stroke:#afeeee;stroke-opacity:0.8;\" x=\"72.572478\" xlink:href=\"#m511f47ef89\" y=\"162.292728\"/>\r\n",
       "     <use style=\"fill:#afeeee;fill-opacity:0.8;stroke:#afeeee;stroke-opacity:0.8;\" x=\"70.717955\" xlink:href=\"#m511f47ef89\" y=\"129.988603\"/>\r\n",
       "     <use style=\"fill:#afeeee;fill-opacity:0.8;stroke:#afeeee;stroke-opacity:0.8;\" x=\"70.258562\" xlink:href=\"#m511f47ef89\" y=\"122.707503\"/>\r\n",
       "     <use style=\"fill:#afeeee;fill-opacity:0.8;stroke:#afeeee;stroke-opacity:0.8;\" x=\"77.260007\" xlink:href=\"#m511f47ef89\" y=\"214.405928\"/>\r\n",
       "     <use style=\"fill:#afeeee;fill-opacity:0.8;stroke:#afeeee;stroke-opacity:0.8;\" x=\"70.722776\" xlink:href=\"#m511f47ef89\" y=\"141.139165\"/>\r\n",
       "     <use style=\"fill:#afeeee;fill-opacity:0.8;stroke:#afeeee;stroke-opacity:0.8;\" x=\"80.419868\" xlink:href=\"#m511f47ef89\" y=\"182.191238\"/>\r\n",
       "     <use style=\"fill:#afeeee;fill-opacity:0.8;stroke:#afeeee;stroke-opacity:0.8;\" x=\"92.898045\" xlink:href=\"#m511f47ef89\" y=\"212.254274\"/>\r\n",
       "     <use style=\"fill:#afeeee;fill-opacity:0.8;stroke:#afeeee;stroke-opacity:0.8;\" x=\"92.311521\" xlink:href=\"#m511f47ef89\" y=\"168.93471\"/>\r\n",
       "     <use style=\"fill:#afeeee;fill-opacity:0.8;stroke:#afeeee;stroke-opacity:0.8;\" x=\"130.535862\" xlink:href=\"#m511f47ef89\" y=\"282.412646\"/>\r\n",
       "     <use style=\"fill:#afeeee;fill-opacity:0.8;stroke:#afeeee;stroke-opacity:0.8;\" x=\"70.663693\" xlink:href=\"#m511f47ef89\" y=\"128.575913\"/>\r\n",
       "     <use style=\"fill:#afeeee;fill-opacity:0.8;stroke:#afeeee;stroke-opacity:0.8;\" x=\"71.057141\" xlink:href=\"#m511f47ef89\" y=\"136.78255\"/>\r\n",
       "     <use style=\"fill:#afeeee;fill-opacity:0.8;stroke:#afeeee;stroke-opacity:0.8;\" x=\"70.845656\" xlink:href=\"#m511f47ef89\" y=\"139.293229\"/>\r\n",
       "     <use style=\"fill:#afeeee;fill-opacity:0.8;stroke:#afeeee;stroke-opacity:0.8;\" x=\"70.663661\" xlink:href=\"#m511f47ef89\" y=\"128.524224\"/>\r\n",
       "     <use style=\"fill:#afeeee;fill-opacity:0.8;stroke:#afeeee;stroke-opacity:0.8;\" x=\"80.419868\" xlink:href=\"#m511f47ef89\" y=\"182.191238\"/>\r\n",
       "     <use style=\"fill:#afeeee;fill-opacity:0.8;stroke:#afeeee;stroke-opacity:0.8;\" x=\"109.784568\" xlink:href=\"#m511f47ef89\" y=\"132.283976\"/>\r\n",
       "     <use style=\"fill:#afeeee;fill-opacity:0.8;stroke:#afeeee;stroke-opacity:0.8;\" x=\"70.880224\" xlink:href=\"#m511f47ef89\" y=\"133.313665\"/>\r\n",
       "     <use style=\"fill:#afeeee;fill-opacity:0.8;stroke:#afeeee;stroke-opacity:0.8;\" x=\"157.761834\" xlink:href=\"#m511f47ef89\" y=\"196.991813\"/>\r\n",
       "     <use style=\"fill:#afeeee;fill-opacity:0.8;stroke:#afeeee;stroke-opacity:0.8;\" x=\"79.760234\" xlink:href=\"#m511f47ef89\" y=\"142.159847\"/>\r\n",
       "     <use style=\"fill:#afeeee;fill-opacity:0.8;stroke:#afeeee;stroke-opacity:0.8;\" x=\"80.419868\" xlink:href=\"#m511f47ef89\" y=\"182.191238\"/>\r\n",
       "     <use style=\"fill:#afeeee;fill-opacity:0.8;stroke:#afeeee;stroke-opacity:0.8;\" x=\"71.214066\" xlink:href=\"#m511f47ef89\" y=\"137.351818\"/>\r\n",
       "     <use style=\"fill:#afeeee;fill-opacity:0.8;stroke:#afeeee;stroke-opacity:0.8;\" x=\"70.47748\" xlink:href=\"#m511f47ef89\" y=\"131.419991\"/>\r\n",
       "     <use style=\"fill:#afeeee;fill-opacity:0.8;stroke:#afeeee;stroke-opacity:0.8;\" x=\"70.687161\" xlink:href=\"#m511f47ef89\" y=\"128.172984\"/>\r\n",
       "     <use style=\"fill:#afeeee;fill-opacity:0.8;stroke:#afeeee;stroke-opacity:0.8;\" x=\"70.258593\" xlink:href=\"#m511f47ef89\" y=\"122.759212\"/>\r\n",
       "     <use style=\"fill:#afeeee;fill-opacity:0.8;stroke:#afeeee;stroke-opacity:0.8;\" x=\"72.572447\" xlink:href=\"#m511f47ef89\" y=\"162.241056\"/>\r\n",
       "     <use style=\"fill:#afeeee;fill-opacity:0.8;stroke:#afeeee;stroke-opacity:0.8;\" x=\"94.210316\" xlink:href=\"#m511f47ef89\" y=\"187.230178\"/>\r\n",
       "     <use style=\"fill:#afeeee;fill-opacity:0.8;stroke:#afeeee;stroke-opacity:0.8;\" x=\"70.72815\" xlink:href=\"#m511f47ef89\" y=\"135.857673\"/>\r\n",
       "     <use style=\"fill:#afeeee;fill-opacity:0.8;stroke:#afeeee;stroke-opacity:0.8;\" x=\"95.814758\" xlink:href=\"#m511f47ef89\" y=\"192.246228\"/>\r\n",
       "     <use style=\"fill:#afeeee;fill-opacity:0.8;stroke:#afeeee;stroke-opacity:0.8;\" x=\"80.419868\" xlink:href=\"#m511f47ef89\" y=\"182.191238\"/>\r\n",
       "     <use style=\"fill:#afeeee;fill-opacity:0.8;stroke:#afeeee;stroke-opacity:0.8;\" x=\"71.057141\" xlink:href=\"#m511f47ef89\" y=\"136.78255\"/>\r\n",
       "     <use style=\"fill:#afeeee;fill-opacity:0.8;stroke:#afeeee;stroke-opacity:0.8;\" x=\"74.815778\" xlink:href=\"#m511f47ef89\" y=\"160.639599\"/>\r\n",
       "     <use style=\"fill:#afeeee;fill-opacity:0.8;stroke:#afeeee;stroke-opacity:0.8;\" x=\"72.403081\" xlink:href=\"#m511f47ef89\" y=\"142.72986\"/>\r\n",
       "     <use style=\"fill:#afeeee;fill-opacity:0.8;stroke:#afeeee;stroke-opacity:0.8;\" x=\"113.956828\" xlink:href=\"#m511f47ef89\" y=\"294.117251\"/>\r\n",
       "     <use style=\"fill:#afeeee;fill-opacity:0.8;stroke:#afeeee;stroke-opacity:0.8;\" x=\"70.258562\" xlink:href=\"#m511f47ef89\" y=\"122.707503\"/>\r\n",
       "     <use style=\"fill:#afeeee;fill-opacity:0.8;stroke:#afeeee;stroke-opacity:0.8;\" x=\"130.600813\" xlink:href=\"#m511f47ef89\" y=\"136.913732\"/>\r\n",
       "     <use style=\"fill:#afeeee;fill-opacity:0.8;stroke:#afeeee;stroke-opacity:0.8;\" x=\"71.120335\" xlink:href=\"#m511f47ef89\" y=\"133.166378\"/>\r\n",
       "     <use style=\"fill:#afeeee;fill-opacity:0.8;stroke:#afeeee;stroke-opacity:0.8;\" x=\"84.94019\" xlink:href=\"#m511f47ef89\" y=\"252.756983\"/>\r\n",
       "     <use style=\"fill:#afeeee;fill-opacity:0.8;stroke:#afeeee;stroke-opacity:0.8;\" x=\"95.814758\" xlink:href=\"#m511f47ef89\" y=\"192.246228\"/>\r\n",
       "     <use style=\"fill:#afeeee;fill-opacity:0.8;stroke:#afeeee;stroke-opacity:0.8;\" x=\"77.009343\" xlink:href=\"#m511f47ef89\" y=\"170.000985\"/>\r\n",
       "     <use style=\"fill:#afeeee;fill-opacity:0.8;stroke:#afeeee;stroke-opacity:0.8;\" x=\"70.388654\" xlink:href=\"#m511f47ef89\" y=\"125.828115\"/>\r\n",
       "     <use style=\"fill:#afeeee;fill-opacity:0.8;stroke:#afeeee;stroke-opacity:0.8;\" x=\"112.092255\" xlink:href=\"#m511f47ef89\" y=\"233.94473\"/>\r\n",
       "     <use style=\"fill:#afeeee;fill-opacity:0.8;stroke:#afeeee;stroke-opacity:0.8;\" x=\"71.620996\" xlink:href=\"#m511f47ef89\" y=\"141.878923\"/>\r\n",
       "     <use style=\"fill:#afeeee;fill-opacity:0.8;stroke:#afeeee;stroke-opacity:0.8;\" x=\"70.258562\" xlink:href=\"#m511f47ef89\" y=\"122.707503\"/>\r\n",
       "     <use style=\"fill:#afeeee;fill-opacity:0.8;stroke:#afeeee;stroke-opacity:0.8;\" x=\"187.857785\" xlink:href=\"#m511f47ef89\" y=\"289.962719\"/>\r\n",
       "     <use style=\"fill:#afeeee;fill-opacity:0.8;stroke:#afeeee;stroke-opacity:0.8;\" x=\"85.590272\" xlink:href=\"#m511f47ef89\" y=\"192.730601\"/>\r\n",
       "     <use style=\"fill:#afeeee;fill-opacity:0.8;stroke:#afeeee;stroke-opacity:0.8;\" x=\"123.641247\" xlink:href=\"#m511f47ef89\" y=\"231.952202\"/>\r\n",
       "     <use style=\"fill:#afeeee;fill-opacity:0.8;stroke:#afeeee;stroke-opacity:0.8;\" x=\"73.98224\" xlink:href=\"#m511f47ef89\" y=\"153.319676\"/>\r\n",
       "     <use style=\"fill:#afeeee;fill-opacity:0.8;stroke:#afeeee;stroke-opacity:0.8;\" x=\"79.847146\" xlink:href=\"#m511f47ef89\" y=\"196.437843\"/>\r\n",
       "     <use style=\"fill:#afeeee;fill-opacity:0.8;stroke:#afeeee;stroke-opacity:0.8;\" x=\"91.127601\" xlink:href=\"#m511f47ef89\" y=\"192.65465\"/>\r\n",
       "     <use style=\"fill:#afeeee;fill-opacity:0.8;stroke:#afeeee;stroke-opacity:0.8;\" x=\"93.796774\" xlink:href=\"#m511f47ef89\" y=\"215.867151\"/>\r\n",
       "     <use style=\"fill:#afeeee;fill-opacity:0.8;stroke:#afeeee;stroke-opacity:0.8;\" x=\"80.419868\" xlink:href=\"#m511f47ef89\" y=\"182.191238\"/>\r\n",
       "     <use style=\"fill:#afeeee;fill-opacity:0.8;stroke:#afeeee;stroke-opacity:0.8;\" x=\"80.419868\" xlink:href=\"#m511f47ef89\" y=\"182.191238\"/>\r\n",
       "     <use style=\"fill:#afeeee;fill-opacity:0.8;stroke:#afeeee;stroke-opacity:0.8;\" x=\"70.726144\" xlink:href=\"#m511f47ef89\" y=\"138.264409\"/>\r\n",
       "     <use style=\"fill:#afeeee;fill-opacity:0.8;stroke:#afeeee;stroke-opacity:0.8;\" x=\"70.840906\" xlink:href=\"#m511f47ef89\" y=\"132.552992\"/>\r\n",
       "     <use style=\"fill:#afeeee;fill-opacity:0.8;stroke:#afeeee;stroke-opacity:0.8;\" x=\"71.281352\" xlink:href=\"#m511f47ef89\" y=\"141.904489\"/>\r\n",
       "     <use style=\"fill:#afeeee;fill-opacity:0.8;stroke:#afeeee;stroke-opacity:0.8;\" x=\"107.091578\" xlink:href=\"#m511f47ef89\" y=\"176.41213\"/>\r\n",
       "     <use style=\"fill:#afeeee;fill-opacity:0.8;stroke:#afeeee;stroke-opacity:0.8;\" x=\"75.422476\" xlink:href=\"#m511f47ef89\" y=\"175.258924\"/>\r\n",
       "     <use style=\"fill:#afeeee;fill-opacity:0.8;stroke:#afeeee;stroke-opacity:0.8;\" x=\"71.731101\" xlink:href=\"#m511f47ef89\" y=\"141.791223\"/>\r\n",
       "     <use style=\"fill:#afeeee;fill-opacity:0.8;stroke:#afeeee;stroke-opacity:0.8;\" x=\"108.084516\" xlink:href=\"#m511f47ef89\" y=\"225.564931\"/>\r\n",
       "     <use style=\"fill:#afeeee;fill-opacity:0.8;stroke:#afeeee;stroke-opacity:0.8;\" x=\"71.057141\" xlink:href=\"#m511f47ef89\" y=\"136.78255\"/>\r\n",
       "     <use style=\"fill:#afeeee;fill-opacity:0.8;stroke:#afeeee;stroke-opacity:0.8;\" x=\"70.623829\" xlink:href=\"#m511f47ef89\" y=\"133.022079\"/>\r\n",
       "     <use style=\"fill:#afeeee;fill-opacity:0.8;stroke:#afeeee;stroke-opacity:0.8;\" x=\"90.073347\" xlink:href=\"#m511f47ef89\" y=\"201.995569\"/>\r\n",
       "     <use style=\"fill:#afeeee;fill-opacity:0.8;stroke:#afeeee;stroke-opacity:0.8;\" x=\"79.984256\" xlink:href=\"#m511f47ef89\" y=\"166.850624\"/>\r\n",
       "     <use style=\"fill:#afeeee;fill-opacity:0.8;stroke:#afeeee;stroke-opacity:0.8;\" x=\"90.129032\" xlink:href=\"#m511f47ef89\" y=\"189.052563\"/>\r\n",
       "     <use style=\"fill:#afeeee;fill-opacity:0.8;stroke:#afeeee;stroke-opacity:0.8;\" x=\"74.626511\" xlink:href=\"#m511f47ef89\" y=\"159.261508\"/>\r\n",
       "     <use style=\"fill:#afeeee;fill-opacity:0.8;stroke:#afeeee;stroke-opacity:0.8;\" x=\"91.613933\" xlink:href=\"#m511f47ef89\" y=\"207.26523\"/>\r\n",
       "     <use style=\"fill:#afeeee;fill-opacity:0.8;stroke:#afeeee;stroke-opacity:0.8;\" x=\"75.266194\" xlink:href=\"#m511f47ef89\" y=\"148.42913\"/>\r\n",
       "     <use style=\"fill:#afeeee;fill-opacity:0.8;stroke:#afeeee;stroke-opacity:0.8;\" x=\"79.028891\" xlink:href=\"#m511f47ef89\" y=\"157.025934\"/>\r\n",
       "     <use style=\"fill:#afeeee;fill-opacity:0.8;stroke:#afeeee;stroke-opacity:0.8;\" x=\"71.082686\" xlink:href=\"#m511f47ef89\" y=\"131.302043\"/>\r\n",
       "     <use style=\"fill:#afeeee;fill-opacity:0.8;stroke:#afeeee;stroke-opacity:0.8;\" x=\"70.752311\" xlink:href=\"#m511f47ef89\" y=\"133.571159\"/>\r\n",
       "     <use style=\"fill:#afeeee;fill-opacity:0.8;stroke:#afeeee;stroke-opacity:0.8;\" x=\"153.020231\" xlink:href=\"#m511f47ef89\" y=\"193.126175\"/>\r\n",
       "     <use style=\"fill:#afeeee;fill-opacity:0.8;stroke:#afeeee;stroke-opacity:0.8;\" x=\"72.714488\" xlink:href=\"#m511f47ef89\" y=\"147.264895\"/>\r\n",
       "     <use style=\"fill:#afeeee;fill-opacity:0.8;stroke:#afeeee;stroke-opacity:0.8;\" x=\"92.553807\" xlink:href=\"#m511f47ef89\" y=\"197.327208\"/>\r\n",
       "     <use style=\"fill:#afeeee;fill-opacity:0.8;stroke:#afeeee;stroke-opacity:0.8;\" x=\"72.196823\" xlink:href=\"#m511f47ef89\" y=\"145.492153\"/>\r\n",
       "     <use style=\"fill:#afeeee;fill-opacity:0.8;stroke:#afeeee;stroke-opacity:0.8;\" x=\"71.731101\" xlink:href=\"#m511f47ef89\" y=\"141.791223\"/>\r\n",
       "     <use style=\"fill:#afeeee;fill-opacity:0.8;stroke:#afeeee;stroke-opacity:0.8;\" x=\"70.717955\" xlink:href=\"#m511f47ef89\" y=\"129.988603\"/>\r\n",
       "    </g>\r\n",
       "   </g>\r\n",
       "   <g id=\"PathCollection_2\">\r\n",
       "    <defs>\r\n",
       "     <path d=\"M 0 0.866025 \r\n",
       "C 0.229673 0.866025 0.449969 0.774776 0.612372 0.612372 \r\n",
       "C 0.774776 0.449969 0.866025 0.229673 0.866025 0 \r\n",
       "C 0.866025 -0.229673 0.774776 -0.449969 0.612372 -0.612372 \r\n",
       "C 0.449969 -0.774776 0.229673 -0.866025 0 -0.866025 \r\n",
       "C -0.229673 -0.866025 -0.449969 -0.774776 -0.612372 -0.612372 \r\n",
       "C -0.774776 -0.449969 -0.866025 -0.229673 -0.866025 0 \r\n",
       "C -0.866025 0.229673 -0.774776 0.449969 -0.612372 0.612372 \r\n",
       "C -0.449969 0.774776 -0.229673 0.866025 0 0.866025 \r\n",
       "z\r\n",
       "\" id=\"md58c3640be\" style=\"stroke:#64b5cd;stroke-opacity:0.8;\"/>\r\n",
       "    </defs>\r\n",
       "    <g clip-path=\"url(#p7422733102)\">\r\n",
       "     <use style=\"fill:#64b5cd;fill-opacity:0.8;stroke:#64b5cd;stroke-opacity:0.8;\" x=\"75.886888\" xlink:href=\"#md58c3640be\" y=\"172.715605\"/>\r\n",
       "     <use style=\"fill:#64b5cd;fill-opacity:0.8;stroke:#64b5cd;stroke-opacity:0.8;\" x=\"82.496571\" xlink:href=\"#md58c3640be\" y=\"171.458708\"/>\r\n",
       "     <use style=\"fill:#64b5cd;fill-opacity:0.8;stroke:#64b5cd;stroke-opacity:0.8;\" x=\"79.289182\" xlink:href=\"#md58c3640be\" y=\"152.443774\"/>\r\n",
       "     <use style=\"fill:#64b5cd;fill-opacity:0.8;stroke:#64b5cd;stroke-opacity:0.8;\" x=\"131.129979\" xlink:href=\"#md58c3640be\" y=\"211.345376\"/>\r\n",
       "     <use style=\"fill:#64b5cd;fill-opacity:0.8;stroke:#64b5cd;stroke-opacity:0.8;\" x=\"77.359574\" xlink:href=\"#md58c3640be\" y=\"150.465746\"/>\r\n",
       "     <use style=\"fill:#64b5cd;fill-opacity:0.8;stroke:#64b5cd;stroke-opacity:0.8;\" x=\"137.966693\" xlink:href=\"#md58c3640be\" y=\"138.464868\"/>\r\n",
       "     <use style=\"fill:#64b5cd;fill-opacity:0.8;stroke:#64b5cd;stroke-opacity:0.8;\" x=\"328.466592\" xlink:href=\"#md58c3640be\" y=\"21.698306\"/>\r\n",
       "     <use style=\"fill:#64b5cd;fill-opacity:0.8;stroke:#64b5cd;stroke-opacity:0.8;\" x=\"76.711944\" xlink:href=\"#md58c3640be\" y=\"155.839793\"/>\r\n",
       "     <use style=\"fill:#64b5cd;fill-opacity:0.8;stroke:#64b5cd;stroke-opacity:0.8;\" x=\"158.787024\" xlink:href=\"#md58c3640be\" y=\"197.796927\"/>\r\n",
       "    </g>\r\n",
       "   </g>\r\n",
       "   <g id=\"patch_3\">\r\n",
       "    <path d=\"M 56.450156 307.78 \r\n",
       "L 56.450156 7.2 \r\n",
       "\" style=\"fill:none;stroke:#262626;stroke-linecap:square;stroke-linejoin:miter;stroke-width:1.25;\"/>\r\n",
       "   </g>\r\n",
       "   <g id=\"patch_4\">\r\n",
       "    <path d=\"M 56.450156 307.78 \r\n",
       "L 342.280156 307.78 \r\n",
       "\" style=\"fill:none;stroke:#262626;stroke-linecap:square;stroke-linejoin:miter;stroke-width:1.25;\"/>\r\n",
       "   </g>\r\n",
       "  </g>\r\n",
       " </g>\r\n",
       " <defs>\r\n",
       "  <clipPath id=\"p7422733102\">\r\n",
       "   <rect height=\"300.58\" width=\"285.83\" x=\"56.450156\" y=\"7.2\"/>\r\n",
       "  </clipPath>\r\n",
       " </defs>\r\n",
       "</svg>\r\n"
      ],
      "text/plain": [
       "<Figure size 360x360 with 1 Axes>"
      ]
     },
     "metadata": {},
     "output_type": "display_data"
    }
   ],
   "source": [
    "from sklearn.decomposition import PCA\n",
    "import seaborn as sns\n",
    "pca = PCA(n_components=2)\n",
    "pc = pca.fit_transform(features)\n",
    "result_baseline = pd.DataFrame(data = pc , \n",
    "        columns = ['PC1','PC2'])\n",
    "result_baseline['Cluster'] = labels\n",
    "\n",
    "\n",
    "sns.set(font_scale=1.2)\n",
    "sns.set(rc={'figure.figsize':(12,10)})\n",
    "sns.set(rc={'axes.facecolor':'white', 'figure.facecolor':'white'})\n",
    "sns.set_style(\"ticks\", {\"xtick.major.size\": 8, \"ytick.major.size\": 8})\n",
    "\n",
    "\n",
    "g_baseline=sns.lmplot( x=\"PC1\", y=\"PC2\",\n",
    "  data=result_baseline, \n",
    "  fit_reg=False, \n",
    "  hue='Cluster', # color by cluster\n",
    "  legend=False,\n",
    "  scatter_kws={\"s\": 3}, palette= sns.color_palette(palette) ) # specify the point size\n",
    "\n",
    "\n",
    "plt.grid(False)\n",
    "plt.show()"
   ]
  },
  {
   "cell_type": "markdown",
   "metadata": {},
   "source": [
    "## Dividing data into training and testing datasets"
   ]
  },
  {
   "cell_type": "code",
   "execution_count": 14,
   "metadata": {},
   "outputs": [
    {
     "data": {
      "text/plain": [
       "9"
      ]
     },
     "execution_count": 14,
     "metadata": {},
     "output_type": "execute_result"
    }
   ],
   "source": [
    "label_1=np.where(labels == 1)[0]\n",
    "label_1=list(label_1)\n",
    "len(label_1)"
   ]
  },
  {
   "cell_type": "code",
   "execution_count": 15,
   "metadata": {},
   "outputs": [],
   "source": [
    "features_1=features[label_1]\n",
    "#features_1=np.take(features_1,np.random.permutation(features_1.shape[0]),axis=0,out=features_1)"
   ]
  },
  {
   "cell_type": "code",
   "execution_count": 16,
   "metadata": {},
   "outputs": [
    {
     "data": {
      "text/plain": [
       "112"
      ]
     },
     "execution_count": 16,
     "metadata": {},
     "output_type": "execute_result"
    }
   ],
   "source": [
    "label_0=np.where(labels == 0)[0]\n",
    "label_0=list(label_0)\n",
    "len(label_0)"
   ]
  },
  {
   "cell_type": "code",
   "execution_count": 17,
   "metadata": {},
   "outputs": [],
   "source": [
    "features_0=features[label_0]\n",
    "#features_0=np.take(features_0,np.random.permutation(features_0.shape[0]),axis=0,out=features_0)"
   ]
  },
  {
   "cell_type": "code",
   "execution_count": 18,
   "metadata": {},
   "outputs": [],
   "source": [
    "a=len(features_1)//3\n",
    "b=len(features_0)//3"
   ]
  },
  {
   "cell_type": "code",
   "execution_count": 19,
   "metadata": {},
   "outputs": [],
   "source": [
    "fold_1_min=features_1[0:a]\n",
    "fold_1_maj=features_0[0:b]\n",
    "fold_1_tst=np.concatenate((fold_1_min,fold_1_maj))\n",
    "lab_1_tst=np.concatenate((np.zeros(len(fold_1_min))+1, np.zeros(len(fold_1_maj))))"
   ]
  },
  {
   "cell_type": "code",
   "execution_count": 20,
   "metadata": {},
   "outputs": [],
   "source": [
    "fold_2_min=features_1[a:2*a]\n",
    "fold_2_maj=features_0[b:2*b]\n",
    "fold_2_tst=np.concatenate((fold_2_min,fold_2_maj))\n",
    "lab_2_tst=np.concatenate((np.zeros(len(fold_1_min))+1, np.zeros(len(fold_1_maj))))"
   ]
  },
  {
   "cell_type": "code",
   "execution_count": 21,
   "metadata": {},
   "outputs": [],
   "source": [
    "fold_3_min=features_1[2*a:3*a]\n",
    "fold_3_maj=features_0[2*b:3*b]\n",
    "fold_3_tst=np.concatenate((fold_3_min,fold_3_maj))\n",
    "lab_3_tst=np.concatenate((np.zeros(len(fold_1_min))+1, np.zeros(len(fold_1_maj))))"
   ]
  },
  {
   "cell_type": "code",
   "execution_count": 22,
   "metadata": {},
   "outputs": [],
   "source": [
    "fold_1_trn=np.concatenate((fold_2_min,fold_3_min, fold_2_maj,fold_3_maj))"
   ]
  },
  {
   "cell_type": "code",
   "execution_count": 23,
   "metadata": {},
   "outputs": [],
   "source": [
    "lab_1_trn=np.concatenate((np.zeros(len(fold_2_min)+len(fold_3_min))+1,np.zeros(len(fold_2_maj)+len(fold_3_maj))))"
   ]
  },
  {
   "cell_type": "code",
   "execution_count": 24,
   "metadata": {},
   "outputs": [],
   "source": [
    "fold_2_trn=np.concatenate((fold_1_min,fold_3_min, fold_1_maj,fold_3_maj))"
   ]
  },
  {
   "cell_type": "code",
   "execution_count": 25,
   "metadata": {},
   "outputs": [],
   "source": [
    "lab_2_trn=np.concatenate((np.zeros(len(fold_1_min)+len(fold_3_min))+1,np.zeros(len(fold_1_maj)+len(fold_3_maj))))"
   ]
  },
  {
   "cell_type": "code",
   "execution_count": 26,
   "metadata": {},
   "outputs": [],
   "source": [
    "fold_3_trn=np.concatenate((fold_1_min,fold_2_min, fold_1_maj,fold_2_maj))"
   ]
  },
  {
   "cell_type": "code",
   "execution_count": 27,
   "metadata": {},
   "outputs": [],
   "source": [
    "lab_3_trn=np.concatenate((np.zeros(len(fold_1_min)+len(fold_2_min))+1,np.zeros(len(fold_1_maj)+len(fold_2_maj))))"
   ]
  },
  {
   "cell_type": "code",
   "execution_count": 28,
   "metadata": {},
   "outputs": [],
   "source": [
    "training_folds_feats=[fold_1_trn,fold_2_trn,fold_3_trn]"
   ]
  },
  {
   "cell_type": "code",
   "execution_count": 29,
   "metadata": {},
   "outputs": [],
   "source": [
    "testing_folds_feats=[fold_1_tst,fold_2_tst,fold_3_tst]"
   ]
  },
  {
   "cell_type": "code",
   "execution_count": 30,
   "metadata": {},
   "outputs": [],
   "source": [
    "training_folds_labels=[lab_1_trn,lab_2_trn,lab_3_trn]"
   ]
  },
  {
   "cell_type": "code",
   "execution_count": 31,
   "metadata": {},
   "outputs": [],
   "source": [
    "testing_folds_labels=[lab_1_tst,lab_2_tst,lab_3_tst]"
   ]
  },
  {
   "cell_type": "code",
   "execution_count": 32,
   "metadata": {},
   "outputs": [],
   "source": [
    "def lr(X_train,y_train,X_test,y_test):\n",
    "    from sklearn import metrics\n",
    "    from sklearn.linear_model import LogisticRegression\n",
    "    from sklearn.metrics import confusion_matrix\n",
    "    from sklearn.metrics import average_precision_score\n",
    "    from sklearn.metrics import f1_score\n",
    "    from sklearn.metrics import balanced_accuracy_score\n",
    "    from sklearn.metrics import cohen_kappa_score\n",
    "    logreg = LogisticRegression(C=1e5, solver='lbfgs', multi_class='multinomial', class_weight={0: 1, 1: 1})\n",
    "    logreg.fit(X_train, y_train)\n",
    "    y_pred= logreg.predict(X_test)\n",
    "    y_proba=logreg.predict_proba(X_test)[:, 1]\n",
    "    con_mat=confusion_matrix(y_test,y_pred)\n",
    "    bal_acc=balanced_accuracy_score(y_test,y_pred)\n",
    "    tn, fp, fn, tp = con_mat.ravel()\n",
    "    print('tn, fp, fn, tp:', tn, fp, fn, tp)\n",
    "    f1 = f1_score(y_test, y_pred)\n",
    "    kappa=cohen_kappa_score(y_test, y_pred)\n",
    "    aps=average_precision_score(y_test,y_proba)\n",
    "    print('balanced accuracy_LR:', bal_acc)\n",
    "    print('f1 score_LR:', f1)\n",
    "    print('kappa:',kappa)\n",
    "    print('average_precision_score:', aps)\n",
    "    print('confusion matrix_LR',con_mat)\n",
    "    return(f1, bal_acc, aps, con_mat)"
   ]
  },
  {
   "cell_type": "code",
   "execution_count": 33,
   "metadata": {},
   "outputs": [],
   "source": [
    "def svm(X_train,y_train,X_test,y_test):\n",
    "    from sklearn import preprocessing\n",
    "    from sklearn import metrics\n",
    "    from sklearn import svm\n",
    "    from sklearn.metrics import confusion_matrix\n",
    "    from sklearn.metrics import f1_score\n",
    "    from sklearn.metrics import average_precision_score\n",
    "    from sklearn.metrics import balanced_accuracy_score\n",
    "    from sklearn.metrics import cohen_kappa_score\n",
    "    X_train = preprocessing.scale(X_train)\n",
    "    X_test = preprocessing.scale(X_test)\n",
    "    svm= svm.SVC(kernel='linear', decision_function_shape='ovo', class_weight={0: 1., 1: 1.},probability=True)\n",
    "    svm.fit(X_train, y_train)\n",
    "    y_pred= svm.predict(X_test)\n",
    "    y_proba=svm.predict_proba(X_test)[:, 1]\n",
    "    con_mat=confusion_matrix(y_test,y_pred)\n",
    "    bal_acc=balanced_accuracy_score(y_test,y_pred)\n",
    "    aps=average_precision_score(y_test,y_proba)\n",
    "    tn, fp, fn, tp = con_mat.ravel()\n",
    "    print('tn, fp, fn, tp:', tn, fp, fn, tp)\n",
    "    f1 = f1_score(y_test, y_pred)\n",
    "    kappa=cohen_kappa_score(y_test, y_pred)\n",
    "    print('balanced accuracy_SVM:', bal_acc)\n",
    "    print('f1 score_SVM:', f1)\n",
    "    print('kappa:',kappa)\n",
    "    print('average_precision_score:', aps)\n",
    "    print('confusion matrix_SVM',con_mat)\n",
    "    return( f1, bal_acc , aps, con_mat)"
   ]
  },
  {
   "cell_type": "code",
   "execution_count": 34,
   "metadata": {},
   "outputs": [],
   "source": [
    "def knn(X_train,y_train,X_test,y_test):\n",
    "    from sklearn import metrics\n",
    "    from sklearn.neighbors import KNeighborsClassifier\n",
    "    from sklearn.metrics import confusion_matrix\n",
    "    from sklearn.metrics import f1_score\n",
    "    from sklearn.metrics import average_precision_score\n",
    "    from sklearn.metrics import balanced_accuracy_score\n",
    "    from sklearn.metrics import cohen_kappa_score\n",
    "    knn = KNeighborsClassifier(n_neighbors=10)\n",
    "    knn.fit(X_train, y_train)\n",
    "    y_pred= knn.predict(X_test)\n",
    "    y_proba=knn.predict_proba(X_test)[:, 1]\n",
    "    con_mat=confusion_matrix(y_test,y_pred)\n",
    "    bal_acc=balanced_accuracy_score(y_test,y_pred)\n",
    "    aps=average_precision_score(y_test,y_proba)\n",
    "    tn, fp, fn, tp = con_mat.ravel()\n",
    "    print('tn, fp, fn, tp:', tn, fp, fn, tp)\n",
    "    print('balanced accuracy_KNN:', bal_acc)\n",
    "    f1 = f1_score(y_test, y_pred)\n",
    "    kappa=cohen_kappa_score(y_test, y_pred)\n",
    "    print('f1 score_KNN:', f1)\n",
    "    print('kappa:',kappa)\n",
    "    print('average_precision_score:', aps)\n",
    "    print('confusion matrix_KNN',con_mat)\n",
    "    return(f1, bal_acc, aps, con_mat)"
   ]
  },
  {
   "cell_type": "code",
   "execution_count": 35,
   "metadata": {},
   "outputs": [],
   "source": [
    "def Neb_grps(data,near_neb):\n",
    "    nbrs = NearestNeighbors(n_neighbors=near_neb, algorithm='ball_tree').fit(data)\n",
    "    distances, indices = nbrs.kneighbors(data)\n",
    "    neb_class=[]\n",
    "    for i in (indices):\n",
    "        neb_class.append(i)\n",
    "    return(np.asarray(neb_class)) \n",
    "\n",
    "def LoRAS(data,num_samples,shadow,sigma,num_RACOS,num_afcomb):\n",
    "    np.random.seed(42)\n",
    "    data_shadow=([])\n",
    "    for i in range (num_samples):\n",
    "        c=0\n",
    "        while c<shadow:\n",
    "            data_shadow.append(data[i]+np.random.normal(0,sigma))\n",
    "            c=c+1\n",
    "    data_shadow==np.asarray(data_shadow)\n",
    "    data_shadow_lc=([])\n",
    "    for i in range(num_RACOS):\n",
    "        idx = np.random.randint(shadow*num_samples, size=num_afcomb)\n",
    "        w=np.random.randint(100, size=len(idx))\n",
    "        aff_w=np.asarray(w/sum(w))\n",
    "        data_tsl=np.array(data_shadow)[idx,:]\n",
    "        data_tsl_=np.dot(aff_w, data_tsl)\n",
    "        data_shadow_lc.append(data_tsl_)\n",
    "    return(np.asarray(data_shadow_lc))   \n",
    "\n",
    "def LoRAS_gen(num_samples,shadow,sigma,num_RACOS,num_afcomb):\n",
    "    RACOS_set=[]\n",
    "    for i in range (len(nb_list)):\n",
    "        RACOS_i= LoRAS(features_1_trn[nb_list[i]],num_samples,shadow,sigma,num_RACOS,num_afcomb)\n",
    "        RACOS_set.append(RACOS_i)\n",
    "    LoRAS_set=np.asarray(RACOS_set)\n",
    "    LoRAS_1=np.reshape(LoRAS_set,(len(features_1_trn)*num_RACOS,n_feat))\n",
    "    return(np.concatenate((LoRAS_1,features_1_trn)))"
   ]
  },
  {
   "cell_type": "code",
   "execution_count": 36,
   "metadata": {
    "scrolled": true
   },
   "outputs": [
    {
     "name": "stderr",
     "output_type": "stream",
     "text": [
      "C:\\Users\\admin\\Anaconda3\\lib\\site-packages\\sklearn\\linear_model\\_logistic.py:764: ConvergenceWarning: lbfgs failed to converge (status=1):\n",
      "STOP: TOTAL NO. of ITERATIONS REACHED LIMIT.\n",
      "\n",
      "Increase the number of iterations (max_iter) or scale the data as shown in:\n",
      "    https://scikit-learn.org/stable/modules/preprocessing.html\n",
      "Please also refer to the documentation for alternative solver options:\n",
      "    https://scikit-learn.org/stable/modules/linear_model.html#logistic-regression\n",
      "  extra_warning_msg=_LOGISTIC_SOLVER_CONVERGENCE_MSG)\n",
      "C:\\Users\\admin\\Anaconda3\\lib\\site-packages\\sklearn\\linear_model\\_logistic.py:764: ConvergenceWarning: lbfgs failed to converge (status=1):\n",
      "STOP: TOTAL NO. of ITERATIONS REACHED LIMIT.\n",
      "\n",
      "Increase the number of iterations (max_iter) or scale the data as shown in:\n",
      "    https://scikit-learn.org/stable/modules/preprocessing.html\n",
      "Please also refer to the documentation for alternative solver options:\n",
      "    https://scikit-learn.org/stable/modules/linear_model.html#logistic-regression\n",
      "  extra_warning_msg=_LOGISTIC_SOLVER_CONVERGENCE_MSG)\n",
      "C:\\Users\\admin\\Anaconda3\\lib\\site-packages\\sklearn\\linear_model\\_logistic.py:764: ConvergenceWarning: lbfgs failed to converge (status=1):\n",
      "STOP: TOTAL NO. of ITERATIONS REACHED LIMIT.\n",
      "\n",
      "Increase the number of iterations (max_iter) or scale the data as shown in:\n",
      "    https://scikit-learn.org/stable/modules/preprocessing.html\n",
      "Please also refer to the documentation for alternative solver options:\n",
      "    https://scikit-learn.org/stable/modules/linear_model.html#logistic-regression\n",
      "  extra_warning_msg=_LOGISTIC_SOLVER_CONVERGENCE_MSG)\n"
     ]
    },
    {
     "name": "stdout",
     "output_type": "stream",
     "text": [
      "tn, fp, fn, tp: 33 4 3 0\n",
      "balanced accuracy_LR: 0.44594594594594594\n",
      "f1 score_LR: 0.0\n",
      "kappa: -0.09375\n",
      "average_precision_score: 0.08943730749004583\n",
      "confusion matrix_LR [[33  4]\n",
      " [ 3  0]]\n",
      "tn, fp, fn, tp: 21 16 1 2\n",
      "balanced accuracy_SVM: 0.617117117117117\n",
      "f1 score_SVM: 0.1904761904761905\n",
      "kappa: 0.07103825136612008\n",
      "average_precision_score: 0.1936026936026936\n",
      "confusion matrix_SVM [[21 16]\n",
      " [ 1  2]]\n",
      "tn, fp, fn, tp: 32 5 3 0\n",
      "balanced accuracy_KNN: 0.43243243243243246\n",
      "f1 score_KNN: 0.0\n",
      "kappa: -0.10344827586206895\n",
      "average_precision_score: 0.08703703703703704\n",
      "confusion matrix_KNN [[32  5]\n",
      " [ 3  0]]\n",
      "tn, fp, fn, tp: 30 7 0 3\n",
      "balanced accuracy_LR: 0.9054054054054055\n",
      "f1 score_LR: 0.4615384615384615\n",
      "kappa: 0.3913043478260869\n",
      "average_precision_score: 0.7\n",
      "confusion matrix_LR [[30  7]\n",
      " [ 0  3]]\n",
      "tn, fp, fn, tp: 22 15 0 3\n",
      "balanced accuracy_SVM: 0.7972972972972974\n",
      "f1 score_SVM: 0.2857142857142857\n",
      "kappa: 0.18032786885245888\n",
      "average_precision_score: 0.4658119658119658\n",
      "confusion matrix_SVM [[22 15]\n",
      " [ 0  3]]\n",
      "tn, fp, fn, tp: 33 4 1 2\n",
      "balanced accuracy_KNN: 0.7792792792792793\n",
      "f1 score_KNN: 0.4444444444444444\n",
      "kappa: 0.382716049382716\n",
      "average_precision_score: 0.5555555555555556\n",
      "confusion matrix_KNN [[33  4]\n",
      " [ 1  2]]\n",
      "tn, fp, fn, tp: 34 3 3 0\n",
      "balanced accuracy_LR: 0.4594594594594595\n",
      "f1 score_LR: 0.0\n",
      "kappa: -0.08108108108108114\n",
      "average_precision_score: 0.0553636970303637\n",
      "confusion matrix_LR [[34  3]\n",
      " [ 3  0]]\n",
      "tn, fp, fn, tp: 20 17 3 0\n",
      "balanced accuracy_SVM: 0.2702702702702703\n",
      "f1 score_SVM: 0.0\n",
      "kappa: -0.14613180515759328\n",
      "average_precision_score: 0.05780228758169934\n",
      "confusion matrix_SVM [[20 17]\n",
      " [ 3  0]]\n",
      "tn, fp, fn, tp: 27 10 1 2\n",
      "balanced accuracy_KNN: 0.6981981981981982\n",
      "f1 score_KNN: 0.26666666666666666\n",
      "kappa: 0.16666666666666663\n",
      "average_precision_score: 0.18888888888888888\n",
      "confusion matrix_KNN [[27 10]\n",
      " [ 1  2]]\n"
     ]
    }
   ],
   "source": [
    "LR_tLoRAS=[]\n",
    "SVM_tLoRAS=[]\n",
    "KNN_tLoRAS=[]\n",
    "import umap.umap_ as umap\n",
    "for i in range(3):\n",
    "    \n",
    "    features = training_folds_feats[i]\n",
    "    labels= training_folds_labels[i]\n",
    "    label_1=np.where(labels == 1)[0]\n",
    "    label_1=list(label_1)\n",
    "    features_1_trn=features[label_1]\n",
    "    \n",
    "    label_0=np.where(labels == 0)[0]\n",
    "    label_0=list(label_0)\n",
    "    features_0_trn=features[label_0]\n",
    "    \n",
    "    data_embedded_min = umap.UMAP(n_neighbors=5, min_dist=0.00000001, n_components=2, metric='euclidean', random_state=11).fit_transform(features_1_trn)\n",
    "    result_min= pd.DataFrame(data = data_embedded_min, columns = ['t-SNE0', 't-SNE1'])\n",
    "    min_t=np.asmatrix(result_min)\n",
    "    min_t=min_t[0:len(features_1_trn)]\n",
    "    min_t=min_t[:, [0,1]]\n",
    "    \n",
    "    num_samples=3\n",
    "    shadow=100\n",
    "    sigma=.005\n",
    "    num_RACOS=(len(features_0_trn)-len(features_1_trn))//len(features_1_trn)\n",
    "    num_afcomb=100\n",
    "    nb_list=Neb_grps(min_t, num_samples)\n",
    "    \n",
    "    LoRAS_1=LoRAS_gen(num_samples,shadow,sigma,num_RACOS,num_afcomb)\n",
    "    LoRAS_train=np.concatenate((LoRAS_1,features_0_trn))\n",
    "    LoRAS_labels=np.concatenate((np.zeros(len(LoRAS_1))+1, np.zeros(len(features_0_trn))))\n",
    "    \n",
    "    f1_lr_LoRAS,bal_acc_lr_LoRAS, aps_lr_LoRAS,mat_lr_LoRAS=lr(LoRAS_train,LoRAS_labels,testing_folds_feats[i],testing_folds_labels[i])\n",
    "    LR_tLoRAS.append([f1_lr_LoRAS,bal_acc_lr_LoRAS,aps_lr_LoRAS])\n",
    "    f1_svm_LoRAS,bal_acc_svm_LoRAS,aps_svm_LoRAS,mat_svm_LoRAS=svm(LoRAS_train,LoRAS_labels,testing_folds_feats[i],testing_folds_labels[i])\n",
    "    SVM_tLoRAS.append([f1_svm_LoRAS,bal_acc_svm_LoRAS,aps_svm_LoRAS])\n",
    "    f1_knn_LoRAS,bal_acc_knn_LoRAS,aps_knn_LoRAS,mat_knn_LoRAS=knn(LoRAS_train,LoRAS_labels,testing_folds_feats[i],testing_folds_labels[i])\n",
    "    KNN_tLoRAS.append([f1_knn_LoRAS,bal_acc_knn_LoRAS,aps_knn_LoRAS])    "
   ]
  },
  {
   "cell_type": "code",
   "execution_count": 37,
   "metadata": {},
   "outputs": [],
   "source": [
    "def stats(arr):\n",
    "    x=np.mean(np.asarray(arr), axis = 0)\n",
    "    y=np.std(np.asarray(arr), axis = 0)\n",
    "    return(x,y)"
   ]
  },
  {
   "cell_type": "code",
   "execution_count": 38,
   "metadata": {
    "scrolled": false
   },
   "outputs": [
    {
     "name": "stdout",
     "output_type": "stream",
     "text": [
      "F1 Score |  Balanced Accuracy  |  Average precision score :: mean|sd\n",
      "LoRAS-UMAP Oversampling\n",
      "lr: [0.15384615 0.6036036  0.28160033] [0.21757132 0.2134774  0.29618008]\n",
      "svm: [0.15873016 0.56156156 0.23907232] [0.11878277 0.21871471 0.16964392]\n",
      "knn: [0.23703704 0.63663664 0.27716049] [0.1826493  0.14813969 0.20119859]\n"
     ]
    }
   ],
   "source": [
    "print('F1 Score |  Balanced Accuracy  |  Average precision score :: mean|sd')\n",
    "\n",
    "print('LoRAS-UMAP Oversampling')\n",
    "LR_tLoRAS_m, LR_tLoRAS_sd=stats(LR_tLoRAS)\n",
    "print('lr:',LR_tLoRAS_m, LR_tLoRAS_sd)\n",
    "SVM_tLoRAS_m, SVM_tLoRAS_sd=stats(SVM_tLoRAS)\n",
    "print('svm:',SVM_tLoRAS_m, SVM_tLoRAS_sd)\n",
    "KNN_tLoRAS_m, KNN_tLoRAS_sd=stats(KNN_tLoRAS)\n",
    "print('knn:',KNN_tLoRAS_m, KNN_tLoRAS_sd)"
   ]
  },
  {
   "cell_type": "markdown",
   "metadata": {},
   "source": [
    "First save the notebook and then run the last cell to generate .html"
   ]
  },
  {
   "cell_type": "code",
   "execution_count": 41,
   "metadata": {},
   "outputs": [
    {
     "name": "stderr",
     "output_type": "stream",
     "text": [
      "[NbConvertApp] Converting notebook ar1UMAPCV.ipynb to html\n",
      "[NbConvertApp] Writing 383001 bytes to ar1UMAPCV.html\n"
     ]
    }
   ],
   "source": [
    "!jupyter nbconvert --to html ar1UMAPCV.ipynb"
   ]
  },
  {
   "cell_type": "code",
   "execution_count": null,
   "metadata": {},
   "outputs": [],
   "source": []
  },
  {
   "cell_type": "code",
   "execution_count": null,
   "metadata": {},
   "outputs": [],
   "source": []
  }
 ],
 "metadata": {
  "kernelspec": {
   "display_name": "Python 3",
   "language": "python",
   "name": "python3"
  },
  "language_info": {
   "codemirror_mode": {
    "name": "ipython",
    "version": 3
   },
   "file_extension": ".py",
   "mimetype": "text/x-python",
   "name": "python",
   "nbconvert_exporter": "python",
   "pygments_lexer": "ipython3",
   "version": "3.7.4"
  }
 },
 "nbformat": 4,
 "nbformat_minor": 2
}
